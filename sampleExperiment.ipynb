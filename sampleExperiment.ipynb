{
 "cells": [
  {
   "cell_type": "code",
   "execution_count": null,
   "metadata": {},
   "outputs": [],
   "source": [
    "#import the vevesta Library\n",
    "import vevesta as v\n",
    "\n",
    "#create a vevestaX object\n",
    "V=v.Experiment()"
   ]
  },
  {
   "cell_type": "code",
   "execution_count": null,
   "metadata": {
    "scrolled": true
   },
   "outputs": [],
   "source": [
    "#read the dataset\n",
    "import pandas as pd\n",
    "df=pd.read_csv(\"data.csv\")\n",
    "df.head(2)"
   ]
  },
  {
   "cell_type": "code",
   "execution_count": null,
   "metadata": {},
   "outputs": [],
   "source": [
    "#Extract the columns names for features\n",
    "V.ds=df\n",
    "\n",
    "#you can also use:\n",
    "#V.dataSourcing = df"
   ]
  },
  {
   "cell_type": "code",
   "execution_count": null,
   "metadata": {},
   "outputs": [],
   "source": [
    "#Print the feature being used\n",
    "V.ds"
   ]
  },
  {
   "cell_type": "code",
   "execution_count": null,
   "metadata": {},
   "outputs": [],
   "source": [
    "# Do some feature engineering\n",
    "df[\"salary_feature\"]= df[\"Salary\"] * 100/ df[\"House_Price\"]\n",
    "df['salary_ratio1']=df[\"Salary\"] * 100 / df[\"Months_Count\"] * 100"
   ]
  },
  {
   "cell_type": "code",
   "execution_count": null,
   "metadata": {},
   "outputs": [],
   "source": [
    "#Extract features engineered\n",
    "V.fe=df\n",
    "\n",
    "#you can also use:\n",
    "#V.featureEngineering = df"
   ]
  },
  {
   "cell_type": "code",
   "execution_count": null,
   "metadata": {},
   "outputs": [],
   "source": [
    "#Print the features engineered\n",
    "V.fe"
   ]
  },
  {
   "cell_type": "code",
   "execution_count": null,
   "metadata": {
    "scrolled": false
   },
   "outputs": [],
   "source": [
    "#Track variables which have been used for modelling\n",
    "V.start()\n",
    "\n",
    "#you can also use:\n",
    "#V.startModelling()"
   ]
  },
  {
   "cell_type": "code",
   "execution_count": null,
   "metadata": {},
   "outputs": [],
   "source": [
    "#All the varibales mentioned here will be tracked\n",
    "epochs=1500\n",
    "seed=2000\n",
    "loss='rmse'\n",
    "accuracy= 91.2"
   ]
  },
  {
   "cell_type": "code",
   "execution_count": null,
   "metadata": {},
   "outputs": [],
   "source": [
    "#end tracking of variables\n",
    "V.end()\n",
    "#you can also use V.endModelling()"
   ]
  },
  {
   "cell_type": "code",
   "execution_count": null,
   "metadata": {},
   "outputs": [],
   "source": [
    "V.start()\n",
    "recall = 95\n",
    "precision = 87\n",
    "V.end()"
   ]
  },
  {
   "cell_type": "code",
   "execution_count": null,
   "metadata": {
    "scrolled": true
   },
   "outputs": [],
   "source": [
    "# Dump the datasourcing, features engineered and the variables tracked in a xlsx file\n",
    "V.dump(techniqueUsed='XGBoost',message=\"precision is tracked\",version=1)\n",
    "\n",
    "#if filename is not mentioned, then by default the data will be dumped to vevesta.xlsx file\n",
    "#V.dump(techniqueUsed='XGBoost')"
   ]
  },
  {
   "cell_type": "code",
   "execution_count": null,
   "metadata": {},
   "outputs": [],
   "source": [
    "V.commit(techniqueUsed = \"XGBoost\",message=\"increased accuracy\", version=1, projectId=157)"
   ]
  },
  {
   "cell_type": "code",
   "execution_count": null,
   "metadata": {},
   "outputs": [],
   "source": []
  }
 ],
 "metadata": {
  "kernelspec": {
   "display_name": "Python 3",
   "language": "python",
   "name": "python3"
  },
  "language_info": {
   "codemirror_mode": {
    "name": "ipython",
    "version": 3
   },
   "file_extension": ".py",
   "mimetype": "text/x-python",
   "name": "python",
   "nbconvert_exporter": "python",
   "pygments_lexer": "ipython3",
   "version": "3.8.8"
  }
 },
 "nbformat": 4,
 "nbformat_minor": 4
}
